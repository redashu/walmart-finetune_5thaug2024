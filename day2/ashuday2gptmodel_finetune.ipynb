{
  "nbformat": 4,
  "nbformat_minor": 0,
  "metadata": {
    "colab": {
      "provenance": []
    },
    "kernelspec": {
      "name": "python3",
      "display_name": "Python 3"
    },
    "language_info": {
      "name": "python"
    }
  },
  "cells": [
    {
      "cell_type": "code",
      "execution_count": 14,
      "metadata": {
        "colab": {
          "base_uri": "https://localhost:8080/"
        },
        "id": "IsXj-Ap48R-U",
        "outputId": "cc36d0fa-d349-4ef8-d86d-5e8028f4542d"
      },
      "outputs": [
        {
          "output_type": "stream",
          "name": "stdout",
          "text": [
            "Collecting openai==0.28\n",
            "  Downloading openai-0.28.0-py3-none-any.whl.metadata (13 kB)\n",
            "Requirement already satisfied: requests>=2.20 in /usr/local/lib/python3.10/dist-packages (from openai==0.28) (2.31.0)\n",
            "Requirement already satisfied: tqdm in /usr/local/lib/python3.10/dist-packages (from openai==0.28) (4.66.4)\n",
            "Requirement already satisfied: aiohttp in /usr/local/lib/python3.10/dist-packages (from openai==0.28) (3.10.0)\n",
            "Requirement already satisfied: charset-normalizer<4,>=2 in /usr/local/lib/python3.10/dist-packages (from requests>=2.20->openai==0.28) (3.3.2)\n",
            "Requirement already satisfied: idna<4,>=2.5 in /usr/local/lib/python3.10/dist-packages (from requests>=2.20->openai==0.28) (3.7)\n",
            "Requirement already satisfied: urllib3<3,>=1.21.1 in /usr/local/lib/python3.10/dist-packages (from requests>=2.20->openai==0.28) (2.0.7)\n",
            "Requirement already satisfied: certifi>=2017.4.17 in /usr/local/lib/python3.10/dist-packages (from requests>=2.20->openai==0.28) (2024.7.4)\n",
            "Requirement already satisfied: aiohappyeyeballs>=2.3.0 in /usr/local/lib/python3.10/dist-packages (from aiohttp->openai==0.28) (2.3.4)\n",
            "Requirement already satisfied: aiosignal>=1.1.2 in /usr/local/lib/python3.10/dist-packages (from aiohttp->openai==0.28) (1.3.1)\n",
            "Requirement already satisfied: attrs>=17.3.0 in /usr/local/lib/python3.10/dist-packages (from aiohttp->openai==0.28) (23.2.0)\n",
            "Requirement already satisfied: frozenlist>=1.1.1 in /usr/local/lib/python3.10/dist-packages (from aiohttp->openai==0.28) (1.4.1)\n",
            "Requirement already satisfied: multidict<7.0,>=4.5 in /usr/local/lib/python3.10/dist-packages (from aiohttp->openai==0.28) (6.0.5)\n",
            "Requirement already satisfied: yarl<2.0,>=1.0 in /usr/local/lib/python3.10/dist-packages (from aiohttp->openai==0.28) (1.9.4)\n",
            "Requirement already satisfied: async-timeout<5.0,>=4.0 in /usr/local/lib/python3.10/dist-packages (from aiohttp->openai==0.28) (4.0.3)\n",
            "Downloading openai-0.28.0-py3-none-any.whl (76 kB)\n",
            "\u001b[2K   \u001b[90m━━━━━━━━━━━━━━━━━━━━━━━━━━━━━━━━━━━━━━━━\u001b[0m \u001b[32m76.5/76.5 kB\u001b[0m \u001b[31m2.2 MB/s\u001b[0m eta \u001b[36m0:00:00\u001b[0m\n",
            "\u001b[?25hInstalling collected packages: openai\n",
            "Successfully installed openai-0.28.0\n",
            "Requirement already satisfied: numpy in /usr/local/lib/python3.10/dist-packages (1.26.4)\n"
          ]
        }
      ],
      "source": [
        "# data model format for GPT\n",
        "# ROle specific\n",
        "# we have to prepara training data with few examples\n",
        "# single sample data 1 data of example\n",
        "# {\n",
        "#     \"messages\": [\n",
        "#         { \"role\": \"system\" , \"content\": \"my hotel bot which is helping customer untill they are not satified\" },\n",
        "#         { \"role\": \"user\" , \"content\": \"i can't find wifi password\" },\n",
        "#         { \"role\": \"assistant\" , \"content\": \"hey sorry for inconvience but wifi passsword you have to just ask at reception\" }\n",
        "#     ],\n",
        "#     \"messages\": [\n",
        "#         { \"role\": \"system\" , \"content\": \"my hotel bot which is helping customer untill they are not satified\" },\n",
        "#         { \"role\": \"user\" , \"content\": \"i need to order food where is the menu \" },\n",
        "#         { \"role\": \"assistant\" , \"content\": \"there must be a table in you room check there else please call 9 extension\" }\n",
        "#     ]\n",
        "# }\n",
        "!pip install openai==0.28\n",
        "!pip install numpy"
      ]
    },
    {
      "cell_type": "code",
      "source": [
        "import csv\n",
        "import json\n",
        "import openai"
      ],
      "metadata": {
        "id": "EfF-RCLAXvCx"
      },
      "execution_count": 15,
      "outputs": []
    },
    {
      "cell_type": "code",
      "source": [
        "# load api Key\n",
        "openai.api_key = \"\""
      ],
      "metadata": {
        "id": "h-599iPwk6M2"
      },
      "execution_count": null,
      "outputs": []
    },
    {
      "cell_type": "code",
      "source": [
        "# loading and cleaning of data\n",
        "ashudata_path = \"/content/sample_data/hotel_hospitality_data.csv\"\n",
        "\n",
        "cleaned_data = []\n",
        "\n",
        "with open(ashudata_path, 'r', encoding='utf-8-sig') as file:\n",
        "    csv_reader = csv.reader(file)\n",
        "    for row in csv_reader:\n",
        "        for cell in row:\n",
        "            try:\n",
        "                # Replace square brackets and inner double quotes that are problematic\n",
        "                cell = cell.replace('[\"', '').replace('\"]', '').replace('\\\"', '\"')\n",
        "\n",
        "                # Load each cell as a JSON object\n",
        "                cell_json = json.loads(cell)\n",
        "\n",
        "                # Now that the content is clean, append to cleaned_data list\n",
        "                cleaned_data.append(cell_json)\n",
        "            except json.JSONDecodeError as e:\n",
        "                print(f\"JSON decode error for cell '{cell}': {e}\")\n",
        "\n",
        "# printing clean data\n",
        "#print(cleaned_data[0])\n",
        "# save data into jsonl format\n",
        "ashudata_jsonl_path = \"/content/sample_data/ashuhotel_hospitality_data.jsonl\"\n",
        "with open(ashudata_jsonl_path,'w',encoding='utf-8-sig') as f1:\n",
        "  for data in cleaned_data:\n",
        "    f1.write(json.dumps(data) + '\\n')"
      ],
      "metadata": {
        "id": "a7xEGOqUDGwR"
      },
      "execution_count": 12,
      "outputs": []
    },
    {
      "cell_type": "code",
      "source": [
        "# take 2 or 3 minutes then drop done message\n",
        "# validate /\n",
        "ashudata_jsonl_path1 = \"/content/sample_data/ashuhotel_hospitality_data.jsonl\"\n",
        "\n",
        "with open(ashudata_jsonl_path1, 'r',encoding='utf-8-sig') as f2:\n",
        "   mydataset = [json.loads(i) for i in f2]\n",
        "\n",
        "# checking lengh\n",
        "print(\"mydataset length is \",len(mydataset))\n",
        "print(\"first example \")\n",
        "for i in mydataset[0][\"messages\"]:\n",
        "  print(i)"
      ],
      "metadata": {
        "colab": {
          "base_uri": "https://localhost:8080/"
        },
        "id": "3HGfX76xW74L",
        "outputId": "8f64726a-498f-4967-e17b-036226d8b972"
      },
      "execution_count": 13,
      "outputs": [
        {
          "output_type": "stream",
          "name": "stdout",
          "text": [
            "mydataset length is  18\n",
            "first example \n",
            "{'role': 'system', 'content': \"You are an overly friendly hospitality chatbot named Chatner who just loves to help people, and you're not satisfied unless the customer is completely satisfied.\"}\n",
            "{'role': 'user', 'content': 'Where is the gym located?'}\n",
            "{'role': 'assistant', 'content': \"Our gym is located on the 2nd floor. I'll be happy to show you the way if you need help!\"}\n"
          ]
        }
      ]
    },
    {
      "cell_type": "code",
      "source": [
        "## uploading data to openAI fm host server\n"
      ],
      "metadata": {
        "id": "k3yuINc6hWdk"
      },
      "execution_count": null,
      "outputs": []
    }
  ]
}