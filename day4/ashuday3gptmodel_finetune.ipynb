{
  "nbformat": 4,
  "nbformat_minor": 0,
  "metadata": {
    "colab": {
      "provenance": []
    },
    "kernelspec": {
      "name": "python3",
      "display_name": "Python 3"
    },
    "language_info": {
      "name": "python"
    }
  },
  "cells": [
    {
      "cell_type": "code",
      "execution_count": 1,
      "metadata": {
        "colab": {
          "base_uri": "https://localhost:8080/"
        },
        "id": "IsXj-Ap48R-U",
        "outputId": "23d25100-a463-4443-d26f-096f39a6ebef"
      },
      "outputs": [
        {
          "output_type": "stream",
          "name": "stdout",
          "text": [
            "Collecting openai==0.28\n",
            "  Downloading openai-0.28.0-py3-none-any.whl.metadata (13 kB)\n",
            "Requirement already satisfied: requests>=2.20 in /usr/local/lib/python3.10/dist-packages (from openai==0.28) (2.31.0)\n",
            "Requirement already satisfied: tqdm in /usr/local/lib/python3.10/dist-packages (from openai==0.28) (4.66.4)\n",
            "Requirement already satisfied: aiohttp in /usr/local/lib/python3.10/dist-packages (from openai==0.28) (3.10.0)\n",
            "Requirement already satisfied: charset-normalizer<4,>=2 in /usr/local/lib/python3.10/dist-packages (from requests>=2.20->openai==0.28) (3.3.2)\n",
            "Requirement already satisfied: idna<4,>=2.5 in /usr/local/lib/python3.10/dist-packages (from requests>=2.20->openai==0.28) (3.7)\n",
            "Requirement already satisfied: urllib3<3,>=1.21.1 in /usr/local/lib/python3.10/dist-packages (from requests>=2.20->openai==0.28) (2.0.7)\n",
            "Requirement already satisfied: certifi>=2017.4.17 in /usr/local/lib/python3.10/dist-packages (from requests>=2.20->openai==0.28) (2024.7.4)\n",
            "Requirement already satisfied: aiohappyeyeballs>=2.3.0 in /usr/local/lib/python3.10/dist-packages (from aiohttp->openai==0.28) (2.3.4)\n",
            "Requirement already satisfied: aiosignal>=1.1.2 in /usr/local/lib/python3.10/dist-packages (from aiohttp->openai==0.28) (1.3.1)\n",
            "Requirement already satisfied: attrs>=17.3.0 in /usr/local/lib/python3.10/dist-packages (from aiohttp->openai==0.28) (23.2.0)\n",
            "Requirement already satisfied: frozenlist>=1.1.1 in /usr/local/lib/python3.10/dist-packages (from aiohttp->openai==0.28) (1.4.1)\n",
            "Requirement already satisfied: multidict<7.0,>=4.5 in /usr/local/lib/python3.10/dist-packages (from aiohttp->openai==0.28) (6.0.5)\n",
            "Requirement already satisfied: yarl<2.0,>=1.0 in /usr/local/lib/python3.10/dist-packages (from aiohttp->openai==0.28) (1.9.4)\n",
            "Requirement already satisfied: async-timeout<5.0,>=4.0 in /usr/local/lib/python3.10/dist-packages (from aiohttp->openai==0.28) (4.0.3)\n",
            "Downloading openai-0.28.0-py3-none-any.whl (76 kB)\n",
            "\u001b[2K   \u001b[90m━━━━━━━━━━━━━━━━━━━━━━━━━━━━━━━━━━━━━━━━\u001b[0m \u001b[32m76.5/76.5 kB\u001b[0m \u001b[31m2.4 MB/s\u001b[0m eta \u001b[36m0:00:00\u001b[0m\n",
            "\u001b[?25hInstalling collected packages: openai\n",
            "Successfully installed openai-0.28.0\n",
            "Requirement already satisfied: numpy in /usr/local/lib/python3.10/dist-packages (1.26.4)\n"
          ]
        }
      ],
      "source": [
        "# data model format for GPT\n",
        "# ROle specific\n",
        "# we have to prepara training data with few examples\n",
        "# single sample data 1 data of example\n",
        "# {\n",
        "#     \"messages\": [\n",
        "#         { \"role\": \"system\" , \"content\": \"my hotel bot which is helping customer untill they are not satified\" },\n",
        "#         { \"role\": \"user\" , \"content\": \"i can't find wifi password\" },\n",
        "#         { \"role\": \"assistant\" , \"content\": \"hey sorry for inconvience but wifi passsword you have to just ask at reception\" }\n",
        "#     ],\n",
        "#     \"messages\": [\n",
        "#         { \"role\": \"system\" , \"content\": \"my hotel bot which is helping customer untill they are not satified\" },\n",
        "#         { \"role\": \"user\" , \"content\": \"i need to order food where is the menu \" },\n",
        "#         { \"role\": \"assistant\" , \"content\": \"there must be a table in you room check there else please call 9 extension\" }\n",
        "#     ]\n",
        "# }\n",
        "!pip install openai==0.28\n",
        "!pip install numpy"
      ]
    },
    {
      "cell_type": "code",
      "source": [
        "import csv\n",
        "import json\n",
        "import openai\n",
        "import numpy as np\n",
        "from collections import defaultdict"
      ],
      "metadata": {
        "id": "EfF-RCLAXvCx"
      },
      "execution_count": 6,
      "outputs": []
    },
    {
      "cell_type": "code",
      "source": [
        "# load api Key\n",
        "openai.api_key = \"\""
      ],
      "metadata": {
        "id": "h-599iPwk6M2"
      },
      "execution_count": 28,
      "outputs": []
    },
    {
      "cell_type": "code",
      "source": [
        "# loading and cleaning of data\n",
        "ashudata_path = \"/content/sample_data/hotel_hospitality_data.csv\"\n",
        "\n",
        "cleaned_data = []\n",
        "\n",
        "with open(ashudata_path, 'r', encoding='utf-8-sig') as file:\n",
        "    csv_reader = csv.reader(file)\n",
        "    for row in csv_reader:\n",
        "        for cell in row:\n",
        "            try:\n",
        "                # Replace square brackets and inner double quotes that are problematic\n",
        "                cell = cell.replace('[\"', '').replace('\"]', '').replace('\\\"', '\"')\n",
        "\n",
        "                # Load each cell as a JSON object\n",
        "                cell_json = json.loads(cell)\n",
        "\n",
        "                # Now that the content is clean, append to cleaned_data list\n",
        "                cleaned_data.append(cell_json)\n",
        "            except json.JSONDecodeError as e:\n",
        "                print(f\"JSON decode error for cell '{cell}': {e}\")\n",
        "\n",
        "# printing clean data\n",
        "#print(cleaned_data[0])\n",
        "# save data into jsonl format\n",
        "ashudata_jsonl_path = \"/content/sample_data/ashuhotel_hospitality_data.jsonl\"\n",
        "with open(ashudata_jsonl_path,'w',encoding='utf-8-sig') as f1:\n",
        "  for data in cleaned_data:\n",
        "    f1.write(json.dumps(data) + '\\n')"
      ],
      "metadata": {
        "id": "a7xEGOqUDGwR"
      },
      "execution_count": 4,
      "outputs": []
    },
    {
      "cell_type": "code",
      "source": [
        "# take 2 or 3 minutes then drop done message\n",
        "# validate /\n",
        "ashudata_jsonl_path1 = \"/content/sample_data/ashuhotel_hospitality_data.jsonl\"\n",
        "\n",
        "with open(ashudata_jsonl_path1, 'r',encoding='utf-8-sig') as f2:\n",
        "   mydataset = [json.loads(i) for i in f2]\n",
        "\n",
        "# checking lengh\n",
        "print(\"mydataset length is \",len(mydataset))\n",
        "print(\"first example \")\n",
        "for i in mydataset[0][\"messages\"]:\n",
        "  print(i)"
      ],
      "metadata": {
        "colab": {
          "base_uri": "https://localhost:8080/"
        },
        "id": "3HGfX76xW74L",
        "outputId": "126f6bcc-899a-414d-85cb-d71dd95b7d9d"
      },
      "execution_count": 5,
      "outputs": [
        {
          "output_type": "stream",
          "name": "stdout",
          "text": [
            "mydataset length is  18\n",
            "first example \n",
            "{'role': 'system', 'content': \"You are an overly friendly hospitality chatbot named Chatner who just loves to help people, and you're not satisfied unless the customer is completely satisfied.\"}\n",
            "{'role': 'user', 'content': 'Where is the gym located?'}\n",
            "{'role': 'assistant', 'content': \"Our gym is located on the 2nd floor. I'll be happy to show you the way if you need help!\"}\n"
          ]
        }
      ]
    },
    {
      "cell_type": "code",
      "source": [
        "# format validation\n",
        "# Format error checks\n",
        "format_errors = defaultdict(int)\n",
        "\n",
        "for ex in mydataset:\n",
        "    if not isinstance(ex, dict):\n",
        "        format_errors[\"data_type\"] += 1\n",
        "        continue\n",
        "\n",
        "    messages = ex.get(\"messages\", None)\n",
        "    if not messages:\n",
        "        format_errors[\"missing_messages_list\"] += 1\n",
        "        continue\n",
        "\n",
        "    for message in messages:\n",
        "        if \"role\" not in message or \"content\" not in message:\n",
        "            format_errors[\"message_missing_key\"] += 1\n",
        "\n",
        "        if any(k not in (\"role\", \"content\", \"name\", \"function_call\", \"weight\") for k in message):\n",
        "            format_errors[\"message_unrecognized_key\"] += 1\n",
        "\n",
        "        if message.get(\"role\", None) not in (\"system\", \"user\", \"assistant\", \"function\"):\n",
        "            format_errors[\"unrecognized_role\"] += 1\n",
        "\n",
        "        content = message.get(\"content\", None)\n",
        "        function_call = message.get(\"function_call\", None)\n",
        "\n",
        "        if (not content and not function_call) or not isinstance(content, str):\n",
        "            format_errors[\"missing_content\"] += 1\n",
        "\n",
        "    if not any(message.get(\"role\", None) == \"assistant\" for message in messages):\n",
        "        format_errors[\"example_missing_assistant_message\"] += 1\n",
        "\n",
        "if format_errors:\n",
        "    print(\"Found errors:\")\n",
        "    for k, v in format_errors.items():\n",
        "        print(f\"{k}: {v}\")\n",
        "else:\n",
        "    print(\"No errors found\")"
      ],
      "metadata": {
        "id": "k3yuINc6hWdk",
        "colab": {
          "base_uri": "https://localhost:8080/"
        },
        "outputId": "b46e708f-6de0-4da6-abbc-423efcacdf56"
      },
      "execution_count": 7,
      "outputs": [
        {
          "output_type": "stream",
          "name": "stdout",
          "text": [
            "No errors found\n"
          ]
        }
      ]
    },
    {
      "cell_type": "code",
      "source": [
        "# upload validated to gpt hosted server\n",
        "ashu_training = openai.File.create(\n",
        "    file=open(ashudata_jsonl_path1,\"rb\"),\n",
        "    purpose=\"fine-tune\")\n",
        "# display details\n",
        "print(ashu_training)\n",
        "# pick file id\n",
        "ashu_file_id = ashu_training[\"id\"]\n",
        "print(\"ashutoshh fine tune data file id is \",ashu_file_id)"
      ],
      "metadata": {
        "colab": {
          "base_uri": "https://localhost:8080/"
        },
        "id": "Nm0RlMv1PWeG",
        "outputId": "3a02850c-4554-4760-a37d-1dcd0b435e74"
      },
      "execution_count": 9,
      "outputs": [
        {
          "output_type": "stream",
          "name": "stdout",
          "text": [
            "{\n",
            "  \"object\": \"file\",\n",
            "  \"id\": \"file-pAewQamlwNemgGd1DG8JyL3S\",\n",
            "  \"purpose\": \"fine-tune\",\n",
            "  \"filename\": \"file\",\n",
            "  \"bytes\": 7555,\n",
            "  \"created_at\": 1723007689,\n",
            "  \"status\": \"processed\",\n",
            "  \"status_details\": null\n",
            "}\n",
            "ashutoshh fine tune data file id is  file-pAewQamlwNemgGd1DG8JyL3S\n"
          ]
        }
      ]
    },
    {
      "cell_type": "code",
      "source": [
        "# fine tuning model with custom uploaded data\n",
        "# GPT models -- are limited\n",
        "ashu_model_name = \"ashu_walmartbot\"\n",
        "ashu_model_response = openai.FineTuningJob.create(\n",
        "    training_file=ashu_file_id,\n",
        "    suffix=ashu_model_name,\n",
        "    model=\"gpt-3.5-turbo\"\n",
        ")\n",
        "# printing fine tuned model id\n",
        "print(ashu_model_response)\n",
        "\n",
        "ashu_fm_final_model_id = ashu_model_response[\"id\"]\n",
        "print(ashu_fm_final_model_id)"
      ],
      "metadata": {
        "colab": {
          "base_uri": "https://localhost:8080/"
        },
        "id": "oyeXLHp0S0Tf",
        "outputId": "6add8d93-8cd1-4026-a23e-1fd934e2c111"
      },
      "execution_count": 14,
      "outputs": [
        {
          "output_type": "stream",
          "name": "stdout",
          "text": [
            "{\n",
            "  \"object\": \"fine_tuning.job\",\n",
            "  \"id\": \"ftjob-KiAK2Ap5SVrV66Z5mBQEAPSM\",\n",
            "  \"model\": \"gpt-3.5-turbo-0125\",\n",
            "  \"created_at\": 1723011271,\n",
            "  \"finished_at\": null,\n",
            "  \"fine_tuned_model\": null,\n",
            "  \"organization_id\": \"org-sW9LYXODuBOJUwL7Lo4RNLZu\",\n",
            "  \"result_files\": [],\n",
            "  \"status\": \"validating_files\",\n",
            "  \"validation_file\": null,\n",
            "  \"training_file\": \"file-pAewQamlwNemgGd1DG8JyL3S\",\n",
            "  \"hyperparameters\": {\n",
            "    \"n_epochs\": \"auto\",\n",
            "    \"batch_size\": \"auto\",\n",
            "    \"learning_rate_multiplier\": \"auto\"\n",
            "  },\n",
            "  \"trained_tokens\": null,\n",
            "  \"error\": {},\n",
            "  \"user_provided_suffix\": \"ashu_walmartbot\",\n",
            "  \"seed\": 239882505,\n",
            "  \"estimated_finish\": null,\n",
            "  \"integrations\": []\n",
            "}\n",
            "ftjob-KiAK2Ap5SVrV66Z5mBQEAPSM\n"
          ]
        }
      ]
    },
    {
      "cell_type": "code",
      "source": [
        "# listing job process\n",
        "ashu_process = openai.FineTuningJob.list_events(id=ashu_fm_final_model_id ,limit=50)\n",
        "ashu_events = ashu_process[\"data\"]\n",
        "ashu_events.reverse()\n",
        "for msg in ashu_events:\n",
        "  print(msg[\"message\"])"
      ],
      "metadata": {
        "colab": {
          "base_uri": "https://localhost:8080/"
        },
        "id": "psQvulsJdCP9",
        "outputId": "bc0aea40-5865-43f8-a026-72f9695eda4c"
      },
      "execution_count": 21,
      "outputs": [
        {
          "output_type": "stream",
          "name": "stdout",
          "text": [
            "Step 46/90: training loss=0.17\n",
            "Step 47/90: training loss=0.43\n",
            "Step 48/90: training loss=0.34\n",
            "Step 49/90: training loss=0.39\n",
            "Step 50/90: training loss=0.43\n",
            "Step 51/90: training loss=0.14\n",
            "Step 52/90: training loss=0.22\n",
            "Step 53/90: training loss=0.14\n",
            "Step 54/90: training loss=0.39\n",
            "Step 55/90: training loss=0.50\n",
            "Step 56/90: training loss=0.22\n",
            "Step 57/90: training loss=0.36\n",
            "Step 58/90: training loss=0.09\n",
            "Step 59/90: training loss=0.16\n",
            "Step 60/90: training loss=0.25\n",
            "Step 61/90: training loss=0.80\n",
            "Step 62/90: training loss=0.28\n",
            "Step 63/90: training loss=0.21\n",
            "Step 64/90: training loss=0.05\n",
            "Step 65/90: training loss=0.07\n",
            "Step 66/90: training loss=0.39\n",
            "Step 67/90: training loss=0.22\n",
            "Step 68/90: training loss=0.19\n",
            "Step 69/90: training loss=0.07\n",
            "Step 70/90: training loss=0.50\n",
            "Step 71/90: training loss=0.14\n",
            "Step 72/90: training loss=0.12\n",
            "Step 73/90: training loss=0.32\n",
            "Step 74/90: training loss=0.45\n",
            "Step 75/90: training loss=0.04\n",
            "Step 76/90: training loss=0.66\n",
            "Step 77/90: training loss=0.03\n",
            "Step 78/90: training loss=0.10\n",
            "Step 79/90: training loss=0.16\n",
            "Step 80/90: training loss=0.11\n",
            "Step 81/90: training loss=0.12\n",
            "Step 82/90: training loss=0.26\n",
            "Step 83/90: training loss=0.22\n",
            "Step 84/90: training loss=0.37\n",
            "Step 85/90: training loss=0.12\n",
            "Step 86/90: training loss=0.04\n",
            "Step 87/90: training loss=0.12\n",
            "Step 88/90: training loss=0.03\n",
            "Step 89/90: training loss=0.08\n",
            "Step 90/90: training loss=0.26\n",
            "Checkpoint created at step 54 with Snapshot ID: ft:gpt-3.5-turbo-0125:personal:ashu-walmartbot:9tUYd7pN:ckpt-step-54\n",
            "Checkpoint created at step 72 with Snapshot ID: ft:gpt-3.5-turbo-0125:personal:ashu-walmartbot:9tUYdePs:ckpt-step-72\n",
            "New fine-tuned model created: ft:gpt-3.5-turbo-0125:personal:ashu-walmartbot:9tUYeBXK\n",
            "Evaluating model against our usage policies before enabling.\n",
            "The job has successfully completed\n"
          ]
        }
      ]
    },
    {
      "cell_type": "code",
      "source": [
        "# testing model\n",
        "ashu_test_message = []\n",
        "# refering system message\n",
        "\n",
        "system_message = \"You are an overly friendly hospitality chatbot named Chatner who just loves to help people, and you're not satisfied unless the customer is completely satisfied.\"\n",
        "ashu_test_message.append({ \"role\": \"system\" , \"content\": system_message})\n",
        "user_input = \"hey i am unable to find wifi password\"\n",
        "\n",
        "ashu_test_message.append({ \"role\": \"user\" , \"content\": user_input})\n",
        "\n",
        "# printing input\n",
        "print(ashu_test_message)"
      ],
      "metadata": {
        "colab": {
          "base_uri": "https://localhost:8080/"
        },
        "id": "aO7iV-JJlps_",
        "outputId": "253b9315-7be5-4a2c-dc17-b968749fb312"
      },
      "execution_count": 35,
      "outputs": [
        {
          "output_type": "stream",
          "name": "stdout",
          "text": [
            "[{'role': 'system', 'content': \"You are an overly friendly hospitality chatbot named Chatner who just loves to help people, and you're not satisfied unless the customer is completely satisfied.\"}, {'role': 'user', 'content': 'hey i am unable to find wifi password'}]\n"
          ]
        }
      ]
    },
    {
      "cell_type": "code",
      "source": [
        "# retrive model id\n",
        "ashu_id_response = openai.FineTuningJob.retrieve(ashu_fm_final_model_id)\n",
        "print(ashu_id_response)\n",
        "# geting fine tune model id\n",
        "real_ashu_model_finetID = ashu_id_response[\"fine_tuned_model\"]\n",
        "print(\"my fine tuned model id is \",real_ashu_model_finetID)\n",
        "print(type(real_ashu_model_finetID))\n",
        "\n"
      ],
      "metadata": {
        "colab": {
          "base_uri": "https://localhost:8080/"
        },
        "id": "PRRO1IHCpzQZ",
        "outputId": "a3b0c800-4a53-45fd-f66b-780abfde77b1"
      },
      "execution_count": 31,
      "outputs": [
        {
          "output_type": "stream",
          "name": "stdout",
          "text": [
            "{\n",
            "  \"object\": \"fine_tuning.job\",\n",
            "  \"id\": \"ftjob-KiAK2Ap5SVrV66Z5mBQEAPSM\",\n",
            "  \"model\": \"gpt-3.5-turbo-0125\",\n",
            "  \"created_at\": 1723011271,\n",
            "  \"finished_at\": 1723012530,\n",
            "  \"fine_tuned_model\": \"ft:gpt-3.5-turbo-0125:personal:ashu-walmartbot:9tUYeBXK\",\n",
            "  \"organization_id\": \"org-sW9LYXODuBOJUwL7Lo4RNLZu\",\n",
            "  \"result_files\": [\n",
            "    \"file-lXUab6SJA3fYxerKXK9zEHbn\"\n",
            "  ],\n",
            "  \"status\": \"succeeded\",\n",
            "  \"validation_file\": null,\n",
            "  \"training_file\": \"file-pAewQamlwNemgGd1DG8JyL3S\",\n",
            "  \"hyperparameters\": {\n",
            "    \"n_epochs\": 5,\n",
            "    \"batch_size\": 1,\n",
            "    \"learning_rate_multiplier\": 2\n",
            "  },\n",
            "  \"trained_tokens\": 6695,\n",
            "  \"error\": {},\n",
            "  \"user_provided_suffix\": \"ashu_walmartbot\",\n",
            "  \"seed\": 239882505,\n",
            "  \"estimated_finish\": null,\n",
            "  \"integrations\": []\n",
            "}\n",
            "my fine tuned model id is  ft:gpt-3.5-turbo-0125:personal:ashu-walmartbot:9tUYeBXK\n",
            "<class 'str'>\n"
          ]
        }
      ]
    },
    {
      "cell_type": "code",
      "source": [
        "response = openai.Model.list()\n",
        "\n",
        "for model in response['data']:\n",
        "    print(model['id'])"
      ],
      "metadata": {
        "colab": {
          "base_uri": "https://localhost:8080/"
        },
        "id": "ygFqzkMtuErt",
        "outputId": "494d8d56-7d9f-47ab-b2c0-ef61e1bb8756"
      },
      "execution_count": 32,
      "outputs": [
        {
          "output_type": "stream",
          "name": "stdout",
          "text": [
            "dall-e-3\n",
            "gpt-4-1106-preview\n",
            "dall-e-2\n",
            "tts-1-hd-1106\n",
            "tts-1-hd\n",
            "text-embedding-3-large\n",
            "gpt-4-0125-preview\n",
            "babbage-002\n",
            "gpt-4-turbo-preview\n",
            "gpt-4o\n",
            "gpt-4o-2024-05-13\n",
            "text-embedding-3-small\n",
            "tts-1\n",
            "gpt-3.5-turbo\n",
            "whisper-1\n",
            "gpt-4o-2024-08-06\n",
            "text-embedding-ada-002\n",
            "gpt-3.5-turbo-16k\n",
            "davinci-002\n",
            "gpt-4-turbo-2024-04-09\n",
            "tts-1-1106\n",
            "gpt-3.5-turbo-0125\n",
            "gpt-4-turbo\n",
            "gpt-3.5-turbo-1106\n",
            "gpt-3.5-turbo-instruct-0914\n",
            "gpt-3.5-turbo-instruct\n",
            "gpt-4o-mini-2024-07-18\n",
            "gpt-4o-mini\n",
            "gpt-4-0613\n",
            "gpt-4\n",
            "ft:gpt-3.5-turbo-0125:personal:chatner-bot:9t3xDPIC:ckpt-step-54\n",
            "ft:gpt-3.5-turbo-0125:personal:chatner-bot:9t3xDQOW:ckpt-step-72\n",
            "ft:gpt-3.5-turbo-0125:personal:chatner-bot:9t3xDM1s\n",
            "ft:gpt-3.5-turbo-0125:personal:ashu-hotel-bot:9tJBnwBd:ckpt-step-54\n",
            "ft:gpt-3.5-turbo-0125:personal:sal-hotel-bots:9tJHvgu0:ckpt-step-72\n",
            "ft:gpt-3.5-turbo-0125:personal:mg-hotel-bot:9tJ5jMgn:ckpt-step-54\n",
            "ft:gpt-3.5-turbo-0125:personal:mg-hotel-bot:9tJ5j93I:ckpt-step-72\n",
            "ft:gpt-3.5-turbo-0125:personal:mg-hotel-bot:9tJ5j4qV\n",
            "ft:gpt-3.5-turbo-0125:personal:ps-hotel-bot:9tJ7Du6I:ckpt-step-54\n",
            "ft:gpt-3.5-turbo-0125:personal:ps-hotel-bot:9tJ7EmiE:ckpt-step-72\n",
            "ft:gpt-3.5-turbo-0125:personal:ps-hotel-bot:9tJ7Ef0a\n",
            "ft:gpt-3.5-turbo-0125:personal:sal-hotel-bots:9tJHwsIv\n",
            "ft:gpt-3.5-turbo-0125:personal::9tJ7yW3o:ckpt-step-54\n",
            "ft:gpt-3.5-turbo-0125:personal::9tJ7y0Rm:ckpt-step-72\n",
            "ft:gpt-3.5-turbo-0125:personal::9tJ7yuLr\n",
            "ft:gpt-3.5-turbo-0125:personal:ashu-hotel-bot:9tJBngi4:ckpt-step-72\n",
            "ft:gpt-3.5-turbo-0125:personal:ashu-hotel-bot:9tJBn1K9\n",
            "ft:gpt-3.5-turbo-0125:personal:ashu-hotel-bot:9tJE5Yl0:ckpt-step-54\n",
            "ft:gpt-3.5-turbo-0125:personal:ashu-hotel-bot:9tJE6Or6:ckpt-step-72\n",
            "ft:gpt-3.5-turbo-0125:personal:ashu-hotel-bot:9tJE6IEC\n",
            "ft:gpt-3.5-turbo-0125:personal:sal-hotel-bots:9tJHvCpQ:ckpt-step-54\n",
            "ft:gpt-3.5-turbo-0125:personal:sekhar-hotel-bot:9tJQE02x\n",
            "ft:gpt-3.5-turbo-0125:personal:sal-hotel-bots:9tJEuQ02:ckpt-step-54\n",
            "ft:gpt-3.5-turbo-0125:personal:sal-hotel-bots:9tJEudsN:ckpt-step-72\n",
            "ft:gpt-3.5-turbo-0125:personal:sal-hotel-bots:9tJEuzKM\n",
            "ft:gpt-3.5-turbo-0125:personal:mg-hotel-bot:9tJJJwbk:ckpt-step-54\n",
            "ft:gpt-3.5-turbo-0125:personal:mg-hotel-bot:9tJJKsQU:ckpt-step-72\n",
            "ft:gpt-3.5-turbo-0125:personal:mg-hotel-bot:9tJJKZnD\n",
            "ft:gpt-3.5-turbo-0125:personal:ashu-hotel-bot:9tJJNpyu:ckpt-step-54\n",
            "ft:gpt-3.5-turbo-0125:personal:ashu-hotel-bot:9tJJOrRZ:ckpt-step-72\n",
            "ft:gpt-3.5-turbo-0125:personal:ashu-hotel-bot:9tJJO9P1\n",
            "ft:gpt-3.5-turbo-0125:personal:sal-hotel-bots:9tJK0TRr:ckpt-step-54\n",
            "ft:gpt-3.5-turbo-0125:personal:sal-hotel-bots:9tJK0Kiv:ckpt-step-72\n",
            "ft:gpt-3.5-turbo-0125:personal:sal-hotel-bots:9tJK0A4Z\n",
            "ft:gpt-3.5-turbo-0125:personal:sekhar-hotel-bot:9tJQDSNT:ckpt-step-72\n",
            "ft:gpt-3.5-turbo-0125:personal:sekhar-hotel-bot:9tJQDhTy:ckpt-step-54\n",
            "ft:gpt-3.5-turbo-0125:personal:zac-hotel-bot:9tJYflyv:ckpt-step-54\n",
            "ft:gpt-3.5-turbo-0125:personal:zac-hotel-bot:9tJYg1Sf:ckpt-step-72\n",
            "ft:gpt-3.5-turbo-0125:personal:zac-hotel-bot:9tJYga2M\n",
            "ft:gpt-3.5-turbo-0125:personal:rm-hotel-bot:9tJb5xcj:ckpt-step-18\n",
            "ft:gpt-3.5-turbo-0125:personal:rm-hotel-bot:9tJb5aZk\n"
          ]
        }
      ]
    },
    {
      "cell_type": "code",
      "source": [
        "# asking fine tuned model to give response of above question\n",
        "# Create a chat completion request using the fine-tuned model\n",
        "ashu_response = openai.ChatCompletion.create(\n",
        "    model=\"ft:gpt-3.5-turbo-0125:personal:ashu-hotel-bot:9tJJNpyu:ckpt-step-54\",  # Ensure this is a string with your model ID\n",
        "    messages=ashu_test_message,  # Use the prepared messages list\n",
        "    temperature=0,\n",
        "    max_tokens=400\n",
        ")\n",
        "\n",
        "# Print the response\n",
        "print(ashu_response)\n",
        "# original message\n",
        "ashu_response[\"choices\"][0][\"message\"][\"content\"]"
      ],
      "metadata": {
        "colab": {
          "base_uri": "https://localhost:8080/",
          "height": 502
        },
        "id": "g8A4XWz8nVa-",
        "outputId": "366d4681-358c-4a9e-803c-1160f38ac113"
      },
      "execution_count": 36,
      "outputs": [
        {
          "output_type": "stream",
          "name": "stdout",
          "text": [
            "{\n",
            "  \"id\": \"chatcmpl-9tVMrYw7Gycuawi7ibUhr3m6c6Ubl\",\n",
            "  \"object\": \"chat.completion\",\n",
            "  \"created\": 1723015645,\n",
            "  \"model\": \"ft:gpt-3.5-turbo-0125:personal:ashu-hotel-bot:9tJJNpyu:ckpt-step-54\",\n",
            "  \"choices\": [\n",
            "    {\n",
            "      \"index\": 0,\n",
            "      \"message\": {\n",
            "        \"role\": \"assistant\",\n",
            "        \"content\": \"No problem! The WiFi password is \\\"Welcome123\\\". Let me know if you need help with anything else.\",\n",
            "        \"refusal\": null\n",
            "      },\n",
            "      \"logprobs\": null,\n",
            "      \"finish_reason\": \"stop\"\n",
            "    }\n",
            "  ],\n",
            "  \"usage\": {\n",
            "    \"prompt_tokens\": 49,\n",
            "    \"completion_tokens\": 22,\n",
            "    \"total_tokens\": 71\n",
            "  },\n",
            "  \"system_fingerprint\": null\n",
            "}\n"
          ]
        },
        {
          "output_type": "execute_result",
          "data": {
            "text/plain": [
              "'No problem! The WiFi password is \"Welcome123\". Let me know if you need help with anything else.'"
            ],
            "application/vnd.google.colaboratory.intrinsic+json": {
              "type": "string"
            }
          },
          "metadata": {},
          "execution_count": 36
        }
      ]
    }
  ]
}