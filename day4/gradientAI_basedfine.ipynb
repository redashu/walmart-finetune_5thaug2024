{
  "nbformat": 4,
  "nbformat_minor": 0,
  "metadata": {
    "colab": {
      "provenance": []
    },
    "kernelspec": {
      "name": "python3",
      "display_name": "Python 3"
    },
    "language_info": {
      "name": "python"
    }
  },
  "cells": [
    {
      "cell_type": "code",
      "execution_count": 1,
      "metadata": {
        "colab": {
          "base_uri": "https://localhost:8080/"
        },
        "id": "VXjvq7KwlVZy",
        "outputId": "e99e4882-ef73-480e-9716-1ca0221fce33"
      },
      "outputs": [
        {
          "output_type": "stream",
          "name": "stdout",
          "text": [
            "Collecting gradientai\n",
            "  Downloading gradientai-1.13.1-py3-none-any.whl.metadata (1.3 kB)\n",
            "Collecting aenum>=3.1.11 (from gradientai)\n",
            "  Downloading aenum-3.1.15-py3-none-any.whl.metadata (3.7 kB)\n",
            "Requirement already satisfied: pydantic<3,>=1.10.15 in /usr/local/lib/python3.10/dist-packages (from gradientai) (2.8.2)\n",
            "Requirement already satisfied: python-dateutil>=2.8.2 in /usr/local/lib/python3.10/dist-packages (from gradientai) (2.8.2)\n",
            "Requirement already satisfied: urllib3>=1.25.3 in /usr/local/lib/python3.10/dist-packages (from gradientai) (2.0.7)\n",
            "Requirement already satisfied: annotated-types>=0.4.0 in /usr/local/lib/python3.10/dist-packages (from pydantic<3,>=1.10.15->gradientai) (0.7.0)\n",
            "Requirement already satisfied: pydantic-core==2.20.1 in /usr/local/lib/python3.10/dist-packages (from pydantic<3,>=1.10.15->gradientai) (2.20.1)\n",
            "Requirement already satisfied: typing-extensions>=4.6.1 in /usr/local/lib/python3.10/dist-packages (from pydantic<3,>=1.10.15->gradientai) (4.12.2)\n",
            "Requirement already satisfied: six>=1.5 in /usr/local/lib/python3.10/dist-packages (from python-dateutil>=2.8.2->gradientai) (1.16.0)\n",
            "Downloading gradientai-1.13.1-py3-none-any.whl (410 kB)\n",
            "\u001b[2K   \u001b[90m━━━━━━━━━━━━━━━━━━━━━━━━━━━━━━━━━━━━━━━━\u001b[0m \u001b[32m410.7/410.7 kB\u001b[0m \u001b[31m10.0 MB/s\u001b[0m eta \u001b[36m0:00:00\u001b[0m\n",
            "\u001b[?25hDownloading aenum-3.1.15-py3-none-any.whl (137 kB)\n",
            "\u001b[2K   \u001b[90m━━━━━━━━━━━━━━━━━━━━━━━━━━━━━━━━━━━━━━━━\u001b[0m \u001b[32m137.6/137.6 kB\u001b[0m \u001b[31m9.4 MB/s\u001b[0m eta \u001b[36m0:00:00\u001b[0m\n",
            "\u001b[?25hInstalling collected packages: aenum, gradientai\n",
            "Successfully installed aenum-3.1.15 gradientai-1.13.1\n"
          ]
        }
      ],
      "source": [
        "!pip install gradientai"
      ]
    },
    {
      "cell_type": "code",
      "source": [
        "# import module\n",
        "import os\n",
        "from gradientai import Gradient\n",
        "# setup gradient auth details\n",
        "os.environ['GRADIENT_ACCESS_TOKEN'] = ''\n",
        "os.environ['GRADIENT_WORKSPACE_ID'] = ''\n",
        "#GRADIENT_ACCESS_TOKEN='Sb9WKs7kJkJtZS3wOoJx5t37TD2atIii'\n",
        "#GRADIENT_WORKSPACE_ID='09f82ece-5ef5-4cec-9c75-c41a15c3c1de_workspace'"
      ],
      "metadata": {
        "id": "zY6bZP3mmNZv"
      },
      "execution_count": 3,
      "outputs": []
    },
    {
      "cell_type": "code",
      "source": [
        "# creating funcation to fine tune any free FM like bloom. nouse , llama2\n",
        "def ashumain():\n",
        "    gradient = Gradient()\n",
        "\n",
        "    base_model = gradient.get_base_model(base_model_slug=\"nous-hermes2\") # based foundation model we are choosing\n",
        "\n",
        "    new_model_adapter = base_model.create_model_adapter(\n",
        "        name=\"ashu test adopter\"\n",
        "    )\n",
        "    # printing adopter model id\n",
        "    print(f\"Created model adapter with id {new_model_adapter.id}\")\n",
        "    # prepare training data in the format of nous hermese\n",
        "    samples_data = [\n",
        "      {\"inputs\":\"### Instruction: What is KlickAnalytics? \\n\\n### Response: KlickAnalytics is a New York based Fintech company.\"},\n",
        "      {\"inputs\":\"### Instruction: What do you know about KlickAnalytics? \\n\\n### Response: KlickAnalytis provide global research and analytics platform.\"},\n",
        "      {\"inputs\":\"### Instruction: Can you tell me about KlickAnalytics? \\n\\n### Response: KlickAnalytics provide tools to analyze US, and international markets stock, etfs, commodity, currency and crypto information.\"},\n",
        "    ]\n",
        "    # sample query of question\n",
        "    sample_query = '### Instruction: What is KlickAnalytics? \\n\\n Response:'\n",
        "    print(f\"Asking: {sample_query}\")\n",
        "\n",
        "\n",
        "    # complete to fine tuned model to respond\n",
        "    ashu_response = new_model_adapter.complete(\n",
        "        query=sample_query,\n",
        "        max_generated_token_count=100\n",
        "\n",
        "    ).generated_output\n",
        "   # print(f\"Response: {ashu_response}\")\n",
        "   # training with sample data to new_model_adopter\n",
        "    num_epochs = 3\n",
        "    count = 0\n",
        "\n",
        "    while count < num_epochs:\n",
        "      print(f\"Fine tuning the model with iteration {count + 1}\")\n",
        "      new_model_adapter.fine_tune(samples=samples_data)\n",
        "      count = count + 1\n",
        "\n",
        "    # after the fine tuning\n",
        "\n",
        "    completion = new_model_adapter.complete(\n",
        "        query = sample_query,\n",
        "        max_generated_token_count=100\n",
        "    ).generated_output\n",
        "\n",
        "    print(f\"Generating fine tuning: {completion}\")\n",
        "    gradient.close()\n",
        "\n",
        "\n",
        "if __name__==\"__main__\":\n",
        "  ashumain()\n",
        "\n",
        "\n"
      ],
      "metadata": {
        "colab": {
          "base_uri": "https://localhost:8080/"
        },
        "id": "DClTbCJWoRDy",
        "outputId": "c5b78ab9-4bc0-4acc-ff8f-9e85279f57b0"
      },
      "execution_count": 4,
      "outputs": [
        {
          "output_type": "stream",
          "name": "stdout",
          "text": [
            "Created model adapter with id 9e1ee401-31f2-44bc-baf2-1d6147ec231b_model_adapter\n",
            "Asking: ### Instruction: What is KlickAnalytics? \n",
            "\n",
            " Response:\n",
            "Fine tuning the model with iteration 1\n",
            "Fine tuning the model with iteration 2\n",
            "Fine tuning the model with iteration 3\n",
            "Generating fine tuning:  KlickAnalytics is a leading provider of global research and analytics platform. Our tools and services are designed to provide the latest news, market analysis, and financial data coverage of the global markets. Our platform is powered by advanced algorithms and AI technologies to help investors and traders make informed dec Instruction: What is KlickAnalytics? \n",
            "\n",
            "### Response:\n",
            " KlickAnalytics is a leading provider of global research and analytics platform. Our tools\n"
          ]
        }
      ]
    }
  ]
}